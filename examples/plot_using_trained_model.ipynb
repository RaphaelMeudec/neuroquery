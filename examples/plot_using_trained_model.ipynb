{
  "cells": [
    {
      "cell_type": "code",
      "execution_count": null,
      "metadata": {
        "collapsed": false
      },
      "outputs": [],
      "source": [
        "%matplotlib inline"
      ]
    },
    {
      "cell_type": "markdown",
      "metadata": {},
      "source": [
        "\nBasic neuroquery example: downloading a trained model and making a few queries\n==============================================================================\n\nThis example shows basic neuroquery functionality:\n\n- download a trained neuroquery model\n- query it with some text\n- have a look at the result: a brain map and a list of similar or related\n    terms.\n\nThe model used here is the same as the one deployed on the neuroquery website\n( https://neuroquery.saclay.inria.fr ), and this example shows how to easily\nreproduce the website's functionality in a Python script.\n"
      ]
    },
    {
      "cell_type": "markdown",
      "metadata": {},
      "source": [
        "Download the vocabulary and learned coefficients of a NeuroQuery model\n----------------------------------------------------------------------\n\n"
      ]
    },
    {
      "cell_type": "code",
      "execution_count": null,
      "metadata": {
        "collapsed": false
      },
      "outputs": [],
      "source": [
        "from neuroquery import datasets\n\nneuroquery_data = datasets.fetch_neuroquery_model()\nprint(neuroquery_data)"
      ]
    },
    {
      "cell_type": "markdown",
      "metadata": {},
      "source": [
        "Load the NeuroQuery model\n-------------------------\n\n"
      ]
    },
    {
      "cell_type": "code",
      "execution_count": null,
      "metadata": {
        "collapsed": false
      },
      "outputs": [],
      "source": [
        "from neuroquery import text_to_brain\n\nencoder = text_to_brain.TextToBrain.from_data_dir(neuroquery_data)"
      ]
    },
    {
      "cell_type": "markdown",
      "metadata": {},
      "source": [
        "Query the model and display the results\n---------------------------------------\n\n"
      ]
    },
    {
      "cell_type": "code",
      "execution_count": null,
      "metadata": {
        "collapsed": false
      },
      "outputs": [],
      "source": [
        "# taken from Wikipedia\nquery = \"Aphasia is an inability to comprehend or formulate language\"\n\nresponse = encoder(query)\nprint(response.keys())"
      ]
    },
    {
      "cell_type": "markdown",
      "metadata": {},
      "source": [
        "The \"z_map\" entry of the results is a brain map showing the anatomical\nregions that are most strongly associated with the query in the neuroimaging\nliterature. It is a `Nifti1Image` which can be saved, displayed, etc.\n\n"
      ]
    },
    {
      "cell_type": "code",
      "execution_count": null,
      "metadata": {
        "collapsed": false
      },
      "outputs": [],
      "source": [
        "from nilearn import plotting\n\nprint(type(response[\"z_map\"]))\nplotting.plot_stat_map(\n    response[\"z_map\"], display_mode=\"z\", title=\"aphasia\", threshold=3.)"
      ]
    },
    {
      "cell_type": "code",
      "execution_count": null,
      "metadata": {
        "collapsed": false
      },
      "outputs": [],
      "source": [
        "# Display the map on the cortical surface:\n# (in a Jupyter notebook,\n# `.open_in_browser()` can be ommitted to open an inline view)\nplotting.view_img_on_surf(response[\"z_map\"], threshold=3.).open_in_browser()"
      ]
    },
    {
      "cell_type": "code",
      "execution_count": null,
      "metadata": {
        "collapsed": false
      },
      "outputs": [],
      "source": [
        "# Or open interactive viewer:\n# (in a Jupyter notebook,\n# `.open_in_browser()` can be ommitted to open an inline view)\nplotting.view_img(response[\"z_map\"], threshold=3.).open_in_browser()"
      ]
    },
    {
      "cell_type": "markdown",
      "metadata": {},
      "source": [
        "\"similar_words\" is a DataFrame containing terms that are related to the\nquery. For each related terms, three numbers are provided.\n\"similarity\" is the strength of the association between the term and the\nquery, according to co-occurrence statistics in the literature.\n\n"
      ]
    },
    {
      "cell_type": "code",
      "execution_count": null,
      "metadata": {
        "collapsed": false
      },
      "outputs": [],
      "source": [
        "print(\"Most similar terms:\\n\")\nprint(response[\"similar_words\"].sort_values(\n    by=\"similarity\", ascending=False).head())"
      ]
    },
    {
      "cell_type": "markdown",
      "metadata": {},
      "source": [
        "\"weight_in_brain_map\" is the importance of the term in the brain map. It\ndepends both on the similarity with the query and on the strength of the link\nbetween this term and brain activity. Terms that are similar to the query and\nhave a strong association with brain activity in the literature get a higher\nweight.\n\n"
      ]
    },
    {
      "cell_type": "code",
      "execution_count": null,
      "metadata": {
        "collapsed": false
      },
      "outputs": [],
      "source": [
        "print(\"\\nMost important terms for brain map prediction:\\n\")\nprint(response[\"similar_words\"].sort_values(\n    by=\"weight_in_brain_map\", ascending=False).head())"
      ]
    },
    {
      "cell_type": "markdown",
      "metadata": {},
      "source": [
        "\"weight_in_query\" is the importance of the term in the query itself. It\nreflects the number of times each term appears in the query (reweighted so\nthat very common, uninformative words get a lower weight). For example, terms\nthat do not appear in the query get a \"weight_in_query\" of 0.\n\n"
      ]
    },
    {
      "cell_type": "code",
      "execution_count": null,
      "metadata": {
        "collapsed": false
      },
      "outputs": [],
      "source": [
        "print(\"\\nTerms recognized in the query:\\n\")\nprint(response[\"similar_words\"].query(\"weight_in_query != 0\").sort_values(\n    by=\"weight_in_query\", ascending=False).head())"
      ]
    },
    {
      "cell_type": "markdown",
      "metadata": {},
      "source": [
        "Finally, \"highlighted_text\" contains the text of the query itself, with\nmarkups that indicates which terms were recognized and used by the model\n(usually terms related to neuroimaging):\n\n"
      ]
    },
    {
      "cell_type": "code",
      "execution_count": null,
      "metadata": {
        "collapsed": false
      },
      "outputs": [],
      "source": [
        "print(response[\"highlighted_text\"])\n\n# `print_highlighted_text` can help display it in a terminal for debugging.\n\nfrom neuroquery.tokenization import print_highlighted_text\n\nprint(\"\\n\")\nprint_highlighted_text(response[\"highlighted_text\"])"
      ]
    },
    {
      "cell_type": "code",
      "execution_count": null,
      "metadata": {
        "collapsed": false
      },
      "outputs": [],
      "source": [
        "plotting.show()"
      ]
    }
  ],
  "metadata": {
    "kernelspec": {
      "display_name": "Python 3",
      "language": "python",
      "name": "python3"
    },
    "language_info": {
      "codemirror_mode": {
        "name": "ipython",
        "version": 3
      },
      "file_extension": ".py",
      "mimetype": "text/x-python",
      "name": "python",
      "nbconvert_exporter": "python",
      "pygments_lexer": "ipython3",
      "version": "3.7.2"
    }
  },
  "nbformat": 4,
  "nbformat_minor": 0
}