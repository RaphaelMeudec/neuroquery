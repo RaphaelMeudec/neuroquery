{
  "cells": [
    {
      "cell_type": "code",
      "execution_count": null,
      "metadata": {
        "collapsed": false
      },
      "outputs": [],
      "source": [
        "%matplotlib inline"
      ]
    },
    {
      "cell_type": "markdown",
      "metadata": {},
      "source": [
        "\nAdvanced example: training a NeuroQuery model from scratch\n==========================================================\n\nIn this example, we train a NeuroQuery model from TFIDF descriptors and peak\nactivation coordinates for around 13K neuroimaging studies.\n\nWe transform the coordinates into brain maps, fit a regression model, show an\nexample prediction, and store the trained model.\n\nThis example is more computation-intensive than the others. It runs in around\n40 minutes in total (around 25 mn to transform coordinates into brain maps, and\n15 mn to fit the regression model) and uses up to 6 GB of memory.\n\nNote: for this demo we use a very coarse resolution of brain maps (6mm voxels),\nchange `target_affine` to e.g. `(4, 4, 4)` to increase resolution.\n"
      ]
    },
    {
      "cell_type": "markdown",
      "metadata": {},
      "source": [
        "Collect training data\n---------------------\n\n"
      ]
    },
    {
      "cell_type": "code",
      "execution_count": null,
      "metadata": {
        "collapsed": false
      },
      "outputs": [],
      "source": [
        "import pathlib\n\nfrom scipy import sparse\nimport pandas as pd\nfrom joblib import Memory\nfrom nilearn import plotting\n\nfrom neuroquery import datasets\nfrom neuroquery.img_utils import coordinates_to_maps\nfrom neuroquery.smoothed_regression import SmoothedRegression\nfrom neuroquery.tokenization import TextVectorizer\nfrom neuroquery.encoding import NeuroQueryModel\n\n# Choose where to store the cache and the model once it is trained\noutput_directory = 'trained_text_to_brain_model'\ncache_directory = 'cache'\n\ndata_dir = pathlib.Path(datasets.fetch_neuroquery_model())\n\ncorpus_metadata = pd.read_csv(str(data_dir / 'corpus_metadata.csv'))\nvectorizer = TextVectorizer.from_vocabulary_file(\n    str(data_dir / 'vocabulary.csv'))\n\n# The TFIDF features stored with NeuroQuery data correspond to the terms in\n# `vocabulary.csv` and the studies in `corpus_metadata.csv`;\n# see `README.md` in the data directory for details\ntfidf = sparse.load_npz(str(data_dir / \"corpus_tfidf.npz\"))\n\ncoordinates = pd.read_csv(datasets.fetch_peak_coordinates())"
      ]
    },
    {
      "cell_type": "markdown",
      "metadata": {},
      "source": [
        "Transform the coordinates into brain maps\n-----------------------------------------\n\n"
      ]
    },
    {
      "cell_type": "code",
      "execution_count": null,
      "metadata": {
        "collapsed": false
      },
      "outputs": [],
      "source": [
        "# We cache the `coordinates_to_maps` function with joblib to avoid recomputing\n# this if we train a new model.\ncoord_to_maps = Memory(cache_directory).cache(coordinates_to_maps)\n\n# You can set target_affine to a different value to increase image resolution.\n# The model on neuroquery.saclay.inria.fr uses 4 mm resolution i.e.\n# target_affine=(4, 4, 4)\nbrain_maps, masker = coord_to_maps(coordinates, target_affine=(6, 6, 6))\nbrain_maps = brain_maps[(brain_maps.values != 0).any(axis=1)]"
      ]
    },
    {
      "cell_type": "markdown",
      "metadata": {},
      "source": [
        "Make sure TFIDF and brain maps are aligned (correspond to the same studies)\n\n"
      ]
    },
    {
      "cell_type": "code",
      "execution_count": null,
      "metadata": {
        "collapsed": false
      },
      "outputs": [],
      "source": [
        "pmids = brain_maps.index.intersection(corpus_metadata[\"pmid\"])\nkept_idx = corpus_metadata[\"pmid\"].isin(pmids)\ntfidf = tfidf.A[kept_idx, :]\nbrain_maps = brain_maps.loc[pmids, :]"
      ]
    },
    {
      "cell_type": "markdown",
      "metadata": {},
      "source": [
        "Train the regression model\n--------------------------\n\n"
      ]
    },
    {
      "cell_type": "code",
      "execution_count": null,
      "metadata": {
        "collapsed": false
      },
      "outputs": [],
      "source": [
        "regressor = SmoothedRegression(alphas=[1., 10., 100.])\n\nprint(\"Fitting smoothed regression model on {} samples...\".format(\n    tfidf.shape[0]))\nregressor.fit(tfidf, brain_maps.values)"
      ]
    },
    {
      "cell_type": "markdown",
      "metadata": {},
      "source": [
        "Build a NeuroQuery model and serialize it\n-----------------------------------------\nIt is an interface to the regression model that tokenizes the text of\nqueries, unmasks the predicted brain maps, and formats the outputs.\nThis is the type of object that we will serialize and that is used in other\nexamples.\n\n"
      ]
    },
    {
      "cell_type": "code",
      "execution_count": null,
      "metadata": {
        "collapsed": false
      },
      "outputs": [],
      "source": [
        "corpus_metadata = corpus_metadata.set_index(\"pmid\").loc[pmids, :].reset_index()\nencoder = NeuroQueryModel(vectorizer, regressor, masker.mask_img_,\n                          corpus_info={\"tfidf\": sparse.csr_matrix(tfidf),\n                                       \"metadata\": corpus_metadata})\nencoder.to_data_dir(output_directory)"
      ]
    },
    {
      "cell_type": "markdown",
      "metadata": {},
      "source": [
        "Show an example prediction from our freshly trained model\n---------------------------------------------------------\n\n"
      ]
    },
    {
      "cell_type": "code",
      "execution_count": null,
      "metadata": {
        "collapsed": false
      },
      "outputs": [],
      "source": [
        "query = \"Reading words\"\nprint('Encoding \"{}\"'.format(query))\n\nresult = encoder('huntington')\n\nplotting.view_img(result['z_map'], threshold=3.).open_in_browser()\n\nprint(\"Similar words:\")\nprint(result['similar_words'].head())\nprint(\"\\nSimilar documents:\")\nprint(result['similar_documents'].head())\n\nprint('\\nmodel saved in {}'.format(output_directory))\n\n# Display in notebook\nplotting.view_img(result['z_map'], threshold=3.)"
      ]
    },
    {
      "cell_type": "markdown",
      "metadata": {},
      "source": [
        "Now that the model is trained and saved, it can easily be loaded in a later\nsession\n\n"
      ]
    },
    {
      "cell_type": "code",
      "execution_count": null,
      "metadata": {
        "collapsed": false
      },
      "outputs": [],
      "source": [
        "encoder = NeuroQueryModel.from_data_dir(output_directory)"
      ]
    }
  ],
  "metadata": {
    "kernelspec": {
      "display_name": "Python 3",
      "language": "python",
      "name": "python3"
    },
    "language_info": {
      "codemirror_mode": {
        "name": "ipython",
        "version": 3
      },
      "file_extension": ".py",
      "mimetype": "text/x-python",
      "name": "python",
      "nbconvert_exporter": "python",
      "pygments_lexer": "ipython3",
      "version": "3.7.2"
    }
  },
  "nbformat": 4,
  "nbformat_minor": 0
}